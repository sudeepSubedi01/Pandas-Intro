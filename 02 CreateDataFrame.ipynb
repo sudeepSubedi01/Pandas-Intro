{
 "cells": [
  {
   "cell_type": "code",
   "execution_count": 1,
   "id": "f0478f94-7c03-421c-9c6e-e15e0f81a7f0",
   "metadata": {},
   "outputs": [],
   "source": [
    "import pandas as pd"
   ]
  },
  {
   "cell_type": "code",
   "execution_count": 2,
   "id": "6089d915-a5cb-4e4d-9345-082d1846193d",
   "metadata": {},
   "outputs": [
    {
     "name": "stdout",
     "output_type": "stream",
     "text": [
      "{'name': ['Aman', 'Gupta', 'Sundar', 'Jethalal', 'Bhide'], 'age': [25, 30, 21, 45, 20], 'address': ['India', 'China', 'Amedabad', 'Mumbai', 'Ranapark']}\n",
      "       name  age   address\n",
      "4     Bhide   20  Ranapark\n",
      "2    Sundar   21  Amedabad\n",
      "0      Aman   25     India\n",
      "1     Gupta   30     China\n",
      "3  Jethalal   45    Mumbai\n"
     ]
    }
   ],
   "source": [
    "# Dictionary to DataFrame\n",
    "details1 = {\n",
    "  'name' : ['Aman','Gupta','Sundar', 'Jethalal','Bhide'],\n",
    "  'age' : [25,30,21,45,20],\n",
    "  'address' :['India', 'China','Amedabad','Mumbai','Ranapark']\n",
    "}\n",
    "print(details1)\n",
    "# print(pd.DataFrame(details1).transpose())\n",
    "print(pd.DataFrame(details1).sort_values(by='age'))"
   ]
  },
  {
   "cell_type": "code",
   "execution_count": 3,
   "id": "14a11717",
   "metadata": {},
   "outputs": [
    {
     "name": "stdout",
     "output_type": "stream",
     "text": [
      "[['Aman', 'Gupta', 'Sundar', 'Jethalal', 'Bhide'], [25, 30, 21, 45, 20], ['India', 'China', 'Amedabad', 'Mumbai', 'Ranapark']]\n",
      "          0   1         2\n",
      "0      Aman  25     India\n",
      "1     Gupta  30     China\n",
      "2    Sundar  21  Amedabad\n",
      "3  Jethalal  45    Mumbai\n",
      "4     Bhide  20  Ranapark\n",
      "      Names Ages  Location\n",
      "0      Aman   25     India\n",
      "1     Gupta   30     China\n",
      "2    Sundar   21  Amedabad\n",
      "3  Jethalal   45    Mumbai\n",
      "4     Bhide   20  Ranapark\n",
      "Names       object\n",
      "Ages        object\n",
      "Location    object\n",
      "dtype: object\n"
     ]
    }
   ],
   "source": [
    "# List of Lists to DataFrame (each sublist is a row)\n",
    "details2 = [\n",
    "  ['Aman','Gupta','Sundar', 'Jethalal','Bhide'],\n",
    "  [25,30,21,45,20],\n",
    "  ['India', 'China','Amedabad','Mumbai','Ranapark']]\n",
    "print(details2)\n",
    "df2 = pd.DataFrame(details2).transpose()\n",
    "print(df2)\n",
    "df2.columns = ['Names','Ages', 'Location']\n",
    "print(df2)\n",
    "print(df2.dtypes)"
   ]
  },
  {
   "cell_type": "code",
   "execution_count": 4,
   "id": "611daa06",
   "metadata": {},
   "outputs": [
    {
     "name": "stdout",
     "output_type": "stream",
     "text": [
      "    name  marks        city\n",
      "0  Biden     95     Alabama\n",
      "1  Trump     63      Alaska\n",
      "2   Modi     45    New York\n",
      "3  Putin     47  New Jersey\n"
     ]
    }
   ],
   "source": [
    "# List of lists to DataFrame\n",
    "details3 = [\n",
    "    ['Biden', 95, 'Alabama'],\n",
    "    ['Trump', 63, 'Alaska'],\n",
    "    ['Modi', 45, 'New York'],\n",
    "    ['Putin', 47, 'New Jersey']\n",
    "]\n",
    "df = pd.DataFrame(details3, columns=['name', 'marks', 'city'])\n",
    "df.columns =['name', 'marks', 'city']\n",
    "print(df)"
   ]
  },
  {
   "cell_type": "code",
   "execution_count": 5,
   "id": "b9bca150",
   "metadata": {},
   "outputs": [
    {
     "name": "stdout",
     "output_type": "stream",
     "text": [
      "[('Biden', 95, 'Alabama'), ('Putin', 47, 'New Jersey'), ('Trump', 63, 'Alaska'), ('Modi', 45, 'New York')]\n",
      "    Name  Age        Home\n",
      "0  Biden   95     Alabama\n",
      "1  Putin   47  New Jersey\n",
      "2  Trump   63      Alaska\n",
      "3   Modi   45    New York\n"
     ]
    }
   ],
   "source": [
    "# List of tuples to DataFrame\n",
    "import pandas as pd\n",
    "details4 = [\n",
    "  ('Biden', 95, 'Alabama'),\n",
    "  ('Putin', 47, 'New Jersey'),\n",
    "  ('Trump', 63, 'Alaska',),\n",
    "  ('Modi', 45, 'New York')\n",
    "]\n",
    "print(details4)\n",
    "df4 = pd.DataFrame(details4, columns=('Name','Age','Home'))\n",
    "print(df4)"
   ]
  },
  {
   "cell_type": "code",
   "execution_count": 6,
   "id": "d26c9454",
   "metadata": {},
   "outputs": [
    {
     "name": "stdout",
     "output_type": "stream",
     "text": [
      "(('Biden', 95, 'Alabama'), ('Putin', 47, 'New Jersey'), ('Trump', 63, 'Alaska'), ('Modi', 45, 'New York'))\n",
      "       Age        Home\n",
      "Name                  \n",
      "Biden   95     Alabama\n",
      "Putin   47  New Jersey\n",
      "Trump   63      Alaska\n",
      "Modi    45    New York\n"
     ]
    }
   ],
   "source": [
    "# Tuple of tuples to DataFrame\n",
    "import pandas as pd\n",
    "details5 = (\n",
    "  ('Biden', 95, 'Alabama'),\n",
    "  ('Putin', 47, 'New Jersey'),\n",
    "  ('Trump', 63, 'Alaska',),\n",
    "  ('Modi', 45, 'New York')\n",
    ")\n",
    "print(details5)\n",
    "df4 = pd.DataFrame(details5, columns=('Name','Age','Home'))\n",
    "df4.set_index('Name',inplace=True)\n",
    "print(df4)"
   ]
  }
 ],
 "metadata": {
  "kernelspec": {
   "display_name": "Python 3 (ipykernel)",
   "language": "python",
   "name": "python3"
  },
  "language_info": {
   "codemirror_mode": {
    "name": "ipython",
    "version": 3
   },
   "file_extension": ".py",
   "mimetype": "text/x-python",
   "name": "python",
   "nbconvert_exporter": "python",
   "pygments_lexer": "ipython3",
   "version": "3.12.2"
  }
 },
 "nbformat": 4,
 "nbformat_minor": 5
}

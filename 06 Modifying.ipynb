{
 "cells": [
  {
   "cell_type": "code",
   "execution_count": 116,
   "metadata": {},
   "outputs": [],
   "source": [
    "import pandas as pd"
   ]
  },
  {
   "cell_type": "code",
   "execution_count": 117,
   "metadata": {},
   "outputs": [
    {
     "name": "stdout",
     "output_type": "stream",
     "text": [
      "                    Name Type 1  Type 2  HP  Attack  Defense  Sp. Atk  \\\n",
      "#                                                                       \n",
      "1              Bulbasaur  Grass  Poison  45      49       49       65   \n",
      "2                Ivysaur  Grass  Poison  60      62       63       80   \n",
      "3               Venusaur  Grass  Poison  80      82       83      100   \n",
      "3  VenusaurMega Venusaur  Grass  Poison  80     100      123      122   \n",
      "4             Charmander   Fire     NaN  39      52       43       60   \n",
      "\n",
      "   Sp. Def  Speed  Generation  Legendary  \n",
      "#                                         \n",
      "1       65     45           1      False  \n",
      "2       80     60           1      False  \n",
      "3      100     80           1      False  \n",
      "3      120     80           1      False  \n",
      "4       50     65           1      False  \n"
     ]
    }
   ],
   "source": [
    "data = pd.read_csv('pokemon.csv')\n",
    "df = pd.DataFrame(data)\n",
    "df.set_index('#',inplace=True)\n",
    "print(df.head())"
   ]
  },
  {
   "cell_type": "code",
   "execution_count": 118,
   "metadata": {},
   "outputs": [
    {
     "name": "stdout",
     "output_type": "stream",
     "text": [
      "#\n",
      "1       True\n",
      "2       True\n",
      "3       True\n",
      "3       True\n",
      "4      False\n",
      "       ...  \n",
      "719    False\n",
      "719    False\n",
      "720    False\n",
      "720    False\n",
      "721    False\n",
      "Name: Type 2, Length: 800, dtype: bool\n",
      "Name          Charmander\n",
      "Type 1              Fire\n",
      "Type 2               NaN\n",
      "HP                    39\n",
      "Attack                52\n",
      "Defense               43\n",
      "Sp. Atk               60\n",
      "Sp. Def               50\n",
      "Speed                 65\n",
      "Generation             1\n",
      "Legendary          False\n",
      "Name: 4, dtype: object\n"
     ]
    }
   ],
   "source": [
    "print(df['Type 2'] == 'Poison')\n",
    "print(df.loc[4])"
   ]
  },
  {
   "cell_type": "code",
   "execution_count": 119,
   "metadata": {},
   "outputs": [
    {
     "name": "stdout",
     "output_type": "stream",
     "text": [
      "        Name Type 1  Type 2  HP  Attack  Defense  Sp. Atk  Sp. Def  Speed  \\\n",
      "#                                                                           \n",
      "1  Bulbasaur  Grass  Poison  45      49       49       65       65     45   \n",
      "2    Ivysaur  Grass  Poison  60      62       63       80       80     60   \n",
      "3   Venusaur  Grass  Poison  80      82       83      100      100     80   \n",
      "\n",
      "   Generation  Legendary  Total  \n",
      "#                                \n",
      "1           1      False    318  \n",
      "2           1      False    405  \n",
      "3           1      False    525  \n"
     ]
    }
   ],
   "source": [
    "#accessing columns and manipulating them\n",
    "df['Total'] = df['HP'] + df['Attack'] + df['Defense'] + df['Sp. Atk'] + df['Sp. Def'] + df['Speed']\n",
    "print(df.head(3))"
   ]
  },
  {
   "cell_type": "code",
   "execution_count": 120,
   "metadata": {},
   "outputs": [
    {
     "name": "stdout",
     "output_type": "stream",
     "text": [
      "                      Name   Type 1    Type 2   HP  Attack  Defense  Sp. Atk  \\\n",
      "#                                                                              \n",
      "191                Sunkern    Grass       NaN   30      30       30       30   \n",
      "298                Azurill   Normal     Fairy   50      20       40       20   \n",
      "401              Kricketot      Bug       NaN   37      25       41       25   \n",
      "265                Wurmple      Bug       NaN   45      45       35       20   \n",
      "13                  Weedle      Bug    Poison   40      35       30       20   \n",
      "..                     ...      ...       ...  ...     ...      ...      ...   \n",
      "383  GroudonPrimal Groudon   Ground      Fire  100     180      160      150   \n",
      "382    KyogrePrimal Kyogre    Water       NaN  100     150       90      180   \n",
      "150    MewtwoMega Mewtwo Y  Psychic       NaN  106     150       70      194   \n",
      "384  RayquazaMega Rayquaza   Dragon    Flying  105     180      100      180   \n",
      "150    MewtwoMega Mewtwo X  Psychic  Fighting  106     190      100      154   \n",
      "\n",
      "     Sp. Def  Speed  Generation  Legendary  Total  \n",
      "#                                                  \n",
      "191       30     30           2      False    180  \n",
      "298       40     20           3      False    190  \n",
      "401       41     25           4      False    194  \n",
      "265       30     20           3      False    195  \n",
      "13        20     50           1      False    195  \n",
      "..       ...    ...         ...        ...    ...  \n",
      "383       90     90           3       True    770  \n",
      "382      160     90           3       True    770  \n",
      "150      120    140           1       True    780  \n",
      "384      100    115           3       True    780  \n",
      "150      100    130           1       True    780  \n",
      "\n",
      "[800 rows x 12 columns]\n"
     ]
    }
   ],
   "source": [
    "print(df.sort_values(by = 'Total'))"
   ]
  },
  {
   "cell_type": "code",
   "execution_count": 121,
   "metadata": {},
   "outputs": [
    {
     "name": "stdout",
     "output_type": "stream",
     "text": [
      "     HP  Attack  Total\n",
      "#                     \n",
      "1    45      49    318\n",
      "2    60      62    405\n",
      "3    80      82    525\n",
      "3    80     100    625\n",
      "4    39      52    309\n",
      "..   ..     ...    ...\n",
      "719  50     100    600\n",
      "719  50     160    700\n",
      "720  80     110    600\n",
      "720  80     160    680\n",
      "721  80     110    600\n",
      "\n",
      "[800 rows x 3 columns]\n"
     ]
    }
   ],
   "source": [
    "print(df[['HP','Attack', 'Total']])\n"
   ]
  },
  {
   "cell_type": "code",
   "execution_count": 122,
   "metadata": {},
   "outputs": [
    {
     "name": "stdout",
     "output_type": "stream",
     "text": [
      "['Name' 'Type 1' 'Type 2' 'HP' 'Attack' 'Defense' 'Sp. Atk' 'Sp. Def'\n",
      " 'Speed' 'Generation' 'Legendary' 'Total']\n",
      "[  1   2   3   3   4   5   6   6   6   7   8   9   9  10  11  12  13  14\n",
      "  15  15  16  17  18  18  19  20  21  22  23  24  25  26  27  28  29  30\n",
      "  31  32  33  34  35  36  37  38  39  40  41  42  43  44  45  46  47  48\n",
      "  49  50  51  52  53  54  55  56  57  58  59  60  61  62  63  64  65  65\n",
      "  66  67  68  69  70  71  72  73  74  75  76  77  78  79  80  80  81  82\n",
      "  83  84  85  86  87  88  89  90  91  92  93  94  94  95  96  97  98  99\n",
      " 100 101 102 103 104 105 106 107 108 109 110 111 112 113 114 115 115 116\n",
      " 117 118 119 120 121 122 123 124 125 126 127 127 128 129 130 130 131 132\n",
      " 133 134 135 136 137 138 139 140 141 142 142 143 144 145 146 147 148 149\n",
      " 150 150 150 151 152 153 154 155 156 157 158 159 160 161 162 163 164 165\n",
      " 166 167 168 169 170 171 172 173 174 175 176 177 178 179 180 181 181 182\n",
      " 183 184 185 186 187 188 189 190 191 192 193 194 195 196 197 198 199 200\n",
      " 201 202 203 204 205 206 207 208 208 209 210 211 212 212 213 214 214 215\n",
      " 216 217 218 219 220 221 222 223 224 225 226 227 228 229 229 230 231 232\n",
      " 233 234 235 236 237 238 239 240 241 242 243 244 245 246 247 248 248 249\n",
      " 250 251 252 253 254 254 255 256 257 257 258 259 260 260 261 262 263 264\n",
      " 265 266 267 268 269 270 271 272 273 274 275 276 277 278 279 280 281 282\n",
      " 282 283 284 285 286 287 288 289 290 291 292 293 294 295 296 297 298 299\n",
      " 300 301 302 302 303 303 304 305 306 306 307 308 308 309 310 310 311 312\n",
      " 313 314 315 316 317 318 319 319 320 321 322 323 323 324 325 326 327 328\n",
      " 329 330 331 332 333 334 334 335 336 337 338 339 340 341 342 343 344 345\n",
      " 346 347 348 349 350 351 352 353 354 354 355 356 357 358 359 359 360 361\n",
      " 362 362 363 364 365 366 367 368 369 370 371 372 373 373 374 375 376 376\n",
      " 377 378 379 380 380 381 381 382 382 383 383 384 384 385 386 386 386 386\n",
      " 387 388 389 390 391 392 393 394 395 396 397 398 399 400 401 402 403 404\n",
      " 405 406 407 408 409 410 411 412 413 413 413 414 415 416 417 418 419 420\n",
      " 421 422 423 424 425 426 427 428 428 429 430 431 432 433 434 435 436 437\n",
      " 438 439 440 441 442 443 444 445 445 446 447 448 448 449 450 451 452 453\n",
      " 454 455 456 457 458 459 460 460 461 462 463 464 465 466 467 468 469 470\n",
      " 471 472 473 474 475 475 476 477 478 479 479 479 479 479 479 480 481 482\n",
      " 483 484 485 486 487 487 488 489 490 491 492 492 493 494 495 496 497 498\n",
      " 499 500 501 502 503 504 505 506 507 508 509 510 511 512 513 514 515 516\n",
      " 517 518 519 520 521 522 523 524 525 526 527 528 529 530 531 531 532 533\n",
      " 534 535 536 537 538 539 540 541 542 543 544 545 546 547 548 549 550 551\n",
      " 552 553 554 555 555 556 557 558 559 560 561 562 563 564 565 566 567 568\n",
      " 569 570 571 572 573 574 575 576 577 578 579 580 581 582 583 584 585 586\n",
      " 587 588 589 590 591 592 593 594 595 596 597 598 599 600 601 602 603 604\n",
      " 605 606 607 608 609 610 611 612 613 614 615 616 617 618 619 620 621 622\n",
      " 623 624 625 626 627 628 629 630 631 632 633 634 635 636 637 638 639 640\n",
      " 641 641 642 642 643 644 645 645 646 646 646 647 647 648 648 649 650 651\n",
      " 652 653 654 655 656 657 658 659 660 661 662 663 664 665 666 667 668 669\n",
      " 670 671 672 673 674 675 676 677 678 678 679 680 681 681 682 683 684 685\n",
      " 686 687 688 689 690 691 692 693 694 695 696 697 698 699 700 701 702 703\n",
      " 704 705 706 707 708 709 710 710 710 710 711 711 711 711 712 713 714 715\n",
      " 716 717 718 719 719 720 720 721]\n"
     ]
    }
   ],
   "source": [
    "print(df.columns.values) # returns the column labels of datafrane df\n",
    "print(df.index.values) # returns the row labels of datafrane df"
   ]
  },
  {
   "cell_type": "code",
   "execution_count": null,
   "metadata": {},
   "outputs": [],
   "source": [
    "  "
   ]
  }
 ],
 "metadata": {
  "kernelspec": {
   "display_name": "Python 3",
   "language": "python",
   "name": "python3"
  },
  "language_info": {
   "codemirror_mode": {
    "name": "ipython",
    "version": 3
   },
   "file_extension": ".py",
   "mimetype": "text/x-python",
   "name": "python",
   "nbconvert_exporter": "python",
   "pygments_lexer": "ipython3",
   "version": "3.12.2"
  }
 },
 "nbformat": 4,
 "nbformat_minor": 2
}

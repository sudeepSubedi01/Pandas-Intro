{
 "cells": [
  {
   "cell_type": "code",
   "execution_count": 13,
   "metadata": {},
   "outputs": [],
   "source": [
    "import pandas as pd"
   ]
  },
  {
   "cell_type": "code",
   "execution_count": 14,
   "metadata": {},
   "outputs": [],
   "source": [
    "data = pd.read_csv('pokemon.csv')\n",
    "df = pd.DataFrame(data)"
   ]
  },
  {
   "cell_type": "code",
   "execution_count": 15,
   "metadata": {},
   "outputs": [
    {
     "name": "stdout",
     "output_type": "stream",
     "text": [
      "HP\n",
      "60     67\n",
      "50     63\n",
      "70     57\n",
      "65     46\n",
      "80     43\n",
      "       ..\n",
      "111     1\n",
      "160     1\n",
      "81      1\n",
      "140     1\n",
      "97      1\n",
      "Name: count, Length: 94, dtype: int64\n"
     ]
    }
   ],
   "source": [
    "seriesData = df['HP']\n",
    "# print(type(seriesData))\n",
    "print(seriesData.value_counts())"
   ]
  },
  {
   "cell_type": "code",
   "execution_count": 16,
   "metadata": {},
   "outputs": [
    {
     "name": "stdout",
     "output_type": "stream",
     "text": [
      "#    Name                   Type 1    Type 2    HP   Attack  Defense  Sp. Atk  Sp. Def  Speed  Generation  Legendary\n",
      "1    Bulbasaur              Grass     Poison    45   49      49       65       65       45     1           False        1\n",
      "479  RotomFrost Rotom       Electric  Ice       50   65      107      105      107      86     4           False        1\n",
      "494  Victini                Psychic   Fire      100  100     100      100      100      100    5           True         1\n",
      "492  ShayminSky Forme       Grass     Flying    100  103     75       120      75       127    4           True         1\n",
      "487  GiratinaOrigin Forme   Ghost     Dragon    150  120     100      120      100      90     4           True         1\n",
      "                                                                                                                       ..\n",
      "257  Blaziken               Fire      Fighting  80   120     70       110      70       80     3           False        1\n",
      "256  Combusken              Fire      Fighting  60   85      60       85       60       55     3           False        1\n",
      "254  SceptileMega Sceptile  Grass     Dragon    70   110     75       145      85       145    3           False        1\n",
      "251  Celebi                 Psychic   Grass     100  100     100      100      100      100    2           False        1\n",
      "721  Volcanion              Fire      Water     80   110     120      130      90       70     6           True         1\n",
      "Name: count, Length: 414, dtype: int64\n"
     ]
    }
   ],
   "source": [
    "print(df.value_counts())"
   ]
  }
 ],
 "metadata": {
  "kernelspec": {
   "display_name": "Python 3",
   "language": "python",
   "name": "python3"
  },
  "language_info": {
   "codemirror_mode": {
    "name": "ipython",
    "version": 3
   },
   "file_extension": ".py",
   "mimetype": "text/x-python",
   "name": "python",
   "nbconvert_exporter": "python",
   "pygments_lexer": "ipython3",
   "version": "3.12.2"
  }
 },
 "nbformat": 4,
 "nbformat_minor": 2
}

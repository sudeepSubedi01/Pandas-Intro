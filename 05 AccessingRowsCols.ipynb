{
 "cells": [
  {
   "cell_type": "code",
   "execution_count": 71,
   "metadata": {},
   "outputs": [],
   "source": [
    "import pandas as pd"
   ]
  },
  {
   "cell_type": "code",
   "execution_count": 72,
   "metadata": {},
   "outputs": [
    {
     "name": "stdout",
     "output_type": "stream",
     "text": [
      "         CharCount  Value\n",
      "Word                     \n",
      "aa               2      2\n",
      "aah              3     10\n",
      "asged            5     19\n",
      "fadsffd         10     40\n",
      "fadfa            4     29\n"
     ]
    }
   ],
   "source": [
    "data = [\n",
    "  ['aa',2,2],\n",
    "  ['aah',3,10],\n",
    "  ['asged',5,19],\n",
    "  ['fadsffd',10,40],\n",
    "  ['fadfa',4,29]]\n",
    "df = pd.DataFrame(data,columns=('Word','CharCount','Value'))\n",
    "df.set_index('Word',inplace=True)\n",
    "print(df)"
   ]
  },
  {
   "cell_type": "code",
   "execution_count": 73,
   "metadata": {},
   "outputs": [
    {
     "name": "stdout",
     "output_type": "stream",
     "text": [
      "CharCount     3\n",
      "Value        10\n",
      "Name: aah, dtype: int64\n",
      "Word\n",
      "aa         False\n",
      "aah        False\n",
      "asged      False\n",
      "fadsffd    False\n",
      "fadfa      False\n",
      "Name: Value, dtype: bool\n",
      "Word\n",
      "aa          2\n",
      "aah         3\n",
      "asged       5\n",
      "fadsffd    10\n",
      "fadfa       4\n",
      "Name: CharCount, dtype: int64\n"
     ]
    }
   ],
   "source": [
    "# print(df.info())\n",
    "print(df.loc['aah'])    #accessing rows\n",
    "print(df['Value'] == 5)   #accessing columns\n",
    "print(df['CharCount'])"
   ]
  },
  {
   "cell_type": "code",
   "execution_count": 74,
   "metadata": {},
   "outputs": [
    {
     "name": "stdout",
     "output_type": "stream",
     "text": [
      "         CharCount  Value  Total\n",
      "Word                            \n",
      "aa               2      2     15\n",
      "aah              3     10     15\n",
      "asged            5     19     15\n",
      "fadsffd         10     40     15\n",
      "fadfa            4     29     15\n"
     ]
    }
   ],
   "source": [
    "df['Total'] = 15\n",
    "print(df)"
   ]
  }
 ],
 "metadata": {
  "kernelspec": {
   "display_name": "Python 3",
   "language": "python",
   "name": "python3"
  },
  "language_info": {
   "codemirror_mode": {
    "name": "ipython",
    "version": 3
   },
   "file_extension": ".py",
   "mimetype": "text/x-python",
   "name": "python",
   "nbconvert_exporter": "python",
   "pygments_lexer": "ipython3",
   "version": "3.12.2"
  }
 },
 "nbformat": 4,
 "nbformat_minor": 2
}

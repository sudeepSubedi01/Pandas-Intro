{
 "cells": [
  {
   "cell_type": "code",
   "execution_count": 30,
   "metadata": {},
   "outputs": [],
   "source": [
    "import pandas as pd"
   ]
  },
  {
   "cell_type": "code",
   "execution_count": 48,
   "metadata": {},
   "outputs": [
    {
     "name": "stdout",
     "output_type": "stream",
     "text": [
      "<class 'pandas.core.series.Series'>\n",
      "RangeIndex: 800 entries, 0 to 799\n",
      "Series name: Attack\n",
      "Non-Null Count  Dtype\n",
      "--------------  -----\n",
      "800 non-null    int64\n",
      "dtypes: int64(1)\n",
      "memory usage: 6.4 KB\n",
      "None\n",
      "<class 'pandas.core.series.Series'>\n",
      "RangeIndex: 800 entries, 0 to 799\n",
      "Series name: Attack\n",
      "Non-Null Count  Dtype\n",
      "--------------  -----\n",
      "800 non-null    int32\n",
      "dtypes: int32(1)\n",
      "memory usage: 3.3 KB\n",
      "None\n"
     ]
    }
   ],
   "source": [
    "data = pd.read_csv('pokemon.csv')\n",
    "df = pd.DataFrame(data)\n",
    "# print(df.head())\n",
    "# print(df.info())\n",
    "# print(df['HP'].info())\n",
    "df['HP'] = df['HP'].astype('int32')\n",
    "# print(df['HP'].info())\n",
    "print(df['Attack'].info())\n",
    "df['Attack'] = df['Attack'].astype('int32')\n",
    "print(df['Attack'].info())"
   ]
  },
  {
   "cell_type": "code",
   "execution_count": null,
   "metadata": {},
   "outputs": [],
   "source": []
  }
 ],
 "metadata": {
  "kernelspec": {
   "display_name": "Python 3",
   "language": "python",
   "name": "python3"
  },
  "language_info": {
   "codemirror_mode": {
    "name": "ipython",
    "version": 3
   },
   "file_extension": ".py",
   "mimetype": "text/x-python",
   "name": "python",
   "nbconvert_exporter": "python",
   "pygments_lexer": "ipython3",
   "version": "3.12.2"
  }
 },
 "nbformat": 4,
 "nbformat_minor": 2
}

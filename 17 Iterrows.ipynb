{
 "cells": [
  {
   "cell_type": "code",
   "execution_count": 1,
   "metadata": {},
   "outputs": [],
   "source": [
    "import pandas as pd\n",
    "import numpy as np"
   ]
  },
  {
   "cell_type": "code",
   "execution_count": 2,
   "metadata": {},
   "outputs": [],
   "source": [
    "df = pd.DataFrame()\n",
    "df['X1'] = [1,2,3,4,5,6,6,7,9,9]\n",
    "df['X2'] = [5,3,6,8,1,9,5,8,9,2]\n",
    "df['label'] = [1,1,0,1,0,1,0,1,0,0]"
   ]
  },
  {
   "cell_type": "code",
   "execution_count": 7,
   "metadata": {},
   "outputs": [
    {
     "name": "stdout",
     "output_type": "stream",
     "text": [
      "0\n",
      "X1       1\n",
      "X2       5\n",
      "label    1\n",
      "Name: 0, dtype: int64\n",
      "1\n",
      "X1       2\n",
      "X2       3\n",
      "label    1\n",
      "Name: 1, dtype: int64\n",
      "2\n",
      "X1       3\n",
      "X2       6\n",
      "label    0\n",
      "Name: 2, dtype: int64\n",
      "3\n",
      "X1       4\n",
      "X2       8\n",
      "label    1\n",
      "Name: 3, dtype: int64\n",
      "4\n",
      "X1       5\n",
      "X2       1\n",
      "label    0\n",
      "Name: 4, dtype: int64\n",
      "5\n",
      "X1       6\n",
      "X2       9\n",
      "label    1\n",
      "Name: 5, dtype: int64\n",
      "6\n",
      "X1       6\n",
      "X2       5\n",
      "label    0\n",
      "Name: 6, dtype: int64\n",
      "7\n",
      "X1       7\n",
      "X2       8\n",
      "label    1\n",
      "Name: 7, dtype: int64\n",
      "8\n",
      "X1       9\n",
      "X2       9\n",
      "label    0\n",
      "Name: 8, dtype: int64\n",
      "9\n",
      "X1       9\n",
      "X2       2\n",
      "label    0\n",
      "Name: 9, dtype: int64\n"
     ]
    }
   ],
   "source": [
    "for index, row in df.iterrows():\n",
    "  print(index)\n",
    "  print(row)"
   ]
  },
  {
   "cell_type": "code",
   "execution_count": null,
   "metadata": {},
   "outputs": [],
   "source": []
  },
  {
   "cell_type": "code",
   "execution_count": null,
   "metadata": {},
   "outputs": [],
   "source": []
  }
 ],
 "metadata": {
  "kernelspec": {
   "display_name": "Python 3",
   "language": "python",
   "name": "python3"
  },
  "language_info": {
   "codemirror_mode": {
    "name": "ipython",
    "version": 3
   },
   "file_extension": ".py",
   "mimetype": "text/x-python",
   "name": "python",
   "nbconvert_exporter": "python",
   "pygments_lexer": "ipython3",
   "version": "3.12.2"
  }
 },
 "nbformat": 4,
 "nbformat_minor": 2
}

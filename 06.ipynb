{
 "cells": [
  {
   "cell_type": "code",
   "execution_count": 42,
   "metadata": {},
   "outputs": [],
   "source": [
    "import pandas as pd"
   ]
  },
  {
   "cell_type": "code",
   "execution_count": 43,
   "metadata": {},
   "outputs": [
    {
     "name": "stdout",
     "output_type": "stream",
     "text": [
      "                    Name Type 1  Type 2  HP  Attack  Defense  Sp. Atk  \\\n",
      "#                                                                       \n",
      "1              Bulbasaur  Grass  Poison  45      49       49       65   \n",
      "2                Ivysaur  Grass  Poison  60      62       63       80   \n",
      "3               Venusaur  Grass  Poison  80      82       83      100   \n",
      "3  VenusaurMega Venusaur  Grass  Poison  80     100      123      122   \n",
      "4             Charmander   Fire     NaN  39      52       43       60   \n",
      "\n",
      "   Sp. Def  Speed  Generation  Legendary  \n",
      "#                                         \n",
      "1       65     45           1      False  \n",
      "2       80     60           1      False  \n",
      "3      100     80           1      False  \n",
      "3      120     80           1      False  \n",
      "4       50     65           1      False  \n"
     ]
    }
   ],
   "source": [
    "data = pd.read_csv('pokemon.csv')\n",
    "df = pd.DataFrame(data)\n",
    "df.set_index('#',inplace=True)\n",
    "print(df.head())"
   ]
  },
  {
   "cell_type": "code",
   "execution_count": 44,
   "metadata": {},
   "outputs": [
    {
     "name": "stdout",
     "output_type": "stream",
     "text": [
      "#\n",
      "1       True\n",
      "2       True\n",
      "3       True\n",
      "3       True\n",
      "4      False\n",
      "       ...  \n",
      "719    False\n",
      "719    False\n",
      "720    False\n",
      "720    False\n",
      "721    False\n",
      "Name: Type 2, Length: 800, dtype: bool\n",
      "Name          Charmander\n",
      "Type 1              Fire\n",
      "Type 2               NaN\n",
      "HP                    39\n",
      "Attack                52\n",
      "Defense               43\n",
      "Sp. Atk               60\n",
      "Sp. Def               50\n",
      "Speed                 65\n",
      "Generation             1\n",
      "Legendary          False\n",
      "Name: 4, dtype: object\n"
     ]
    }
   ],
   "source": [
    "print(df['Type 2'] == 'Poison')\n",
    "print(df.loc[4])"
   ]
  }
 ],
 "metadata": {
  "kernelspec": {
   "display_name": "Python 3 (ipykernel)",
   "language": "python",
   "name": "python3"
  },
  "language_info": {
   "codemirror_mode": {
    "name": "ipython",
    "version": 3
   },
   "file_extension": ".py",
   "mimetype": "text/x-python",
   "name": "python",
   "nbconvert_exporter": "python",
   "pygments_lexer": "ipython3",
   "version": "3.12.2"
  }
 },
 "nbformat": 4,
 "nbformat_minor": 4
}

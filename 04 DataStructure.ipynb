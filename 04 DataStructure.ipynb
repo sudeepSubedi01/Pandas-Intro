{
 "cells": [
  {
   "cell_type": "code",
   "execution_count": 175,
   "metadata": {},
   "outputs": [],
   "source": [
    "import pandas as pd\n",
    "import numpy as np"
   ]
  },
  {
   "cell_type": "code",
   "execution_count": 176,
   "metadata": {},
   "outputs": [
    {
     "name": "stdout",
     "output_type": "stream",
     "text": [
      "0    0.858441\n",
      "1    0.956024\n",
      "2    0.425038\n",
      "3    0.508553\n",
      "4    0.415092\n",
      "5    0.982465\n",
      "6    0.464769\n",
      "7    0.437059\n",
      "8    0.195312\n",
      "9    0.284329\n",
      "dtype: float64\n",
      "<class 'pandas.core.series.Series'>\n"
     ]
    }
   ],
   "source": [
    "ser = pd.Series(np.random.rand(10))\n",
    "print(ser)\n",
    "print(type(ser))"
   ]
  },
  {
   "cell_type": "code",
   "execution_count": 177,
   "metadata": {},
   "outputs": [
    {
     "name": "stdout",
     "output_type": "stream",
     "text": [
      "          0         1         2\n",
      "0  0.879868  0.812831  0.321939\n",
      "1  0.289908  0.000348  0.746005\n",
      "2  0.339164  0.070664  0.767263\n",
      "3  0.378503  0.444422  0.094317\n",
      "4  0.043322  0.114409  0.215512\n",
      "<class 'pandas.core.frame.DataFrame'>\n"
     ]
    }
   ],
   "source": [
    "df = pd.DataFrame(np.random.rand(10,3))\n",
    "print(df.head())\n",
    "print(type(df))"
   ]
  },
  {
   "cell_type": "code",
   "execution_count": 178,
   "metadata": {},
   "outputs": [
    {
     "name": "stdout",
     "output_type": "stream",
     "text": [
      "RangeIndex(start=0, stop=3, step=1)\n",
      "(10, 3)\n",
      "30\n",
      "False\n"
     ]
    }
   ],
   "source": [
    "# df.describe()\n",
    "print(df.columns)\n",
    "# print(df.dtypes)\n",
    "# print(df.index)\n",
    "print(df.shape)\n",
    "print(df.size)\n",
    "# print(df.values)\n",
    "print(df.empty)"
   ]
  },
  {
   "cell_type": "code",
   "execution_count": 179,
   "metadata": {},
   "outputs": [
    {
     "name": "stdout",
     "output_type": "stream",
     "text": [
      "0.8128305000033248\n",
      "0    0.879868\n",
      "1    0.289908\n",
      "2    0.339164\n",
      "3    0.378503\n",
      "4    0.043322\n",
      "5    0.309128\n",
      "6    0.997100\n",
      "7    0.792791\n",
      "8    0.048607\n",
      "9    0.651734\n",
      "Name: 0, dtype: float64\n"
     ]
    }
   ],
   "source": [
    "print(df[1][0])  #col x row : not prefered to use this method\n",
    "# df[1][2] = 5.002\n",
    "print(df[0])    #col : not prefered"
   ]
  },
  {
   "cell_type": "code",
   "execution_count": 180,
   "metadata": {},
   "outputs": [
    {
     "name": "stdout",
     "output_type": "stream",
     "text": [
      "0.8798678724607712\n",
      "            0         1         2\n",
      "0    0.879868  0.812831  0.321939\n",
      "1  569.000000  0.000348  0.746005\n",
      "2    0.339164  0.070664  0.767263\n",
      "3    0.378503  0.444422  0.094317\n",
      "4    0.043322  0.114409  0.215512\n",
      "5    0.309128  0.053373  0.768043\n",
      "6    0.997100  0.718992  0.814439\n",
      "7    0.792791  0.956388  0.465132\n",
      "8    0.048607  0.222263  0.282928\n",
      "9    0.651734  0.568954  0.662747\n"
     ]
    }
   ],
   "source": [
    "df.loc[1,0] = 569\n",
    "print(df.loc[0,0])\n",
    "print(df)\n"
   ]
  },
  {
   "cell_type": "code",
   "execution_count": 181,
   "metadata": {},
   "outputs": [
    {
     "name": "stdout",
     "output_type": "stream",
     "text": [
      "            A         B         C\n",
      "0    0.879868  0.812831  0.321939\n",
      "1  569.000000  0.000348  0.746005\n",
      "2    0.339164  0.070664  0.767263\n",
      "0.8798678724607712\n",
      "            A         B         C\n",
      "0    0.879868  0.812831  0.321939\n",
      "1  569.000000  0.000348  0.746005\n",
      "2    0.339164  0.070664  0.767263\n"
     ]
    }
   ],
   "source": [
    "df.columns = list('ABC')\n",
    "print(df.head(3))\n",
    "print(df.loc[0,'A'])\n",
    "# df.loc[1,2] = 8996  # this location doesnt exist, so a new one is created\n",
    "print(df.head(3))"
   ]
  },
  {
   "cell_type": "code",
   "execution_count": 182,
   "metadata": {},
   "outputs": [
    {
     "name": "stdout",
     "output_type": "stream",
     "text": [
      "            A         B         C\n",
      "1  569.000000  0.000348  0.746005\n",
      "2    0.339164  0.070664  0.767263\n",
      "3    0.378503  0.444422  0.094317\n",
      "4    0.043322  0.114409  0.215512\n",
      "5    0.309128  0.053373  0.768043\n",
      "6    0.997100  0.718992  0.814439\n",
      "7    0.792791  0.956388  0.465132\n",
      "8    0.048607  0.222263  0.282928\n",
      "9    0.651734  0.568954  0.662747\n"
     ]
    }
   ],
   "source": [
    "print(df.drop(0,axis=0))"
   ]
  },
  {
   "cell_type": "code",
   "execution_count": 183,
   "metadata": {},
   "outputs": [
    {
     "name": "stdout",
     "output_type": "stream",
     "text": [
      "          B\n",
      "1  0.000348\n",
      "3  0.444422\n",
      "            A\n",
      "0    0.879868\n",
      "1  569.000000\n",
      "2    0.339164\n",
      "3    0.378503\n",
      "4    0.043322\n",
      "5    0.309128\n",
      "6    0.997100\n",
      "7    0.792791\n",
      "8    0.048607\n",
      "9    0.651734\n",
      "          A         B         C\n",
      "2  0.339164  0.070664  0.767263\n",
      "6  0.997100  0.718992  0.814439\n"
     ]
    }
   ],
   "source": [
    "print(df.loc[[1,3],['B']])\n",
    "print(df.loc[:,['A']])\n",
    "print(df.loc[[2,6],:])"
   ]
  },
  {
   "cell_type": "code",
   "execution_count": 184,
   "metadata": {},
   "outputs": [
    {
     "name": "stdout",
     "output_type": "stream",
     "text": [
      "          A         B         C\n",
      "4  0.043322  0.114409  0.215512\n",
      "8  0.048607  0.222263  0.282928\n"
     ]
    }
   ],
   "source": [
    "print(df.loc[(df['A']<0.3) & (df['C']>0.1)])"
   ]
  }
 ],
 "metadata": {
  "kernelspec": {
   "display_name": "Python 3",
   "language": "python",
   "name": "python3"
  },
  "language_info": {
   "codemirror_mode": {
    "name": "ipython",
    "version": 3
   },
   "file_extension": ".py",
   "mimetype": "text/x-python",
   "name": "python",
   "nbconvert_exporter": "python",
   "pygments_lexer": "ipython3",
   "version": "3.12.2"
  }
 },
 "nbformat": 4,
 "nbformat_minor": 2
}

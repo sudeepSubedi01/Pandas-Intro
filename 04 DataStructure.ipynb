{
 "cells": [
  {
   "cell_type": "code",
   "execution_count": 2,
   "metadata": {},
   "outputs": [],
   "source": [
    "import pandas as pd\n",
    "import numpy as np"
   ]
  },
  {
   "cell_type": "code",
   "execution_count": 3,
   "metadata": {},
   "outputs": [
    {
     "name": "stdout",
     "output_type": "stream",
     "text": [
      "0    0.892775\n",
      "1    0.732145\n",
      "2    0.486944\n",
      "3    0.192491\n",
      "4    0.622099\n",
      "5    0.314604\n",
      "6    0.237307\n",
      "7    0.946412\n",
      "8    0.048734\n",
      "9    0.422284\n",
      "dtype: float64\n",
      "<class 'pandas.core.series.Series'>\n"
     ]
    }
   ],
   "source": [
    "ser = pd.Series(np.random.rand(10))\n",
    "print(ser)\n",
    "print(type(ser))"
   ]
  },
  {
   "cell_type": "code",
   "execution_count": 4,
   "metadata": {},
   "outputs": [
    {
     "name": "stdout",
     "output_type": "stream",
     "text": [
      "          0         1         2\n",
      "0  0.407982  0.721282  0.112170\n",
      "1  0.826245  0.883334  0.132276\n",
      "2  0.753045  0.796167  0.494908\n",
      "3  0.215415  0.480697  0.950698\n",
      "4  0.535602  0.780694  0.465677\n",
      "<class 'pandas.core.frame.DataFrame'>\n"
     ]
    }
   ],
   "source": [
    "df = pd.DataFrame(np.random.rand(10,3))\n",
    "print(df.head())\n",
    "print(type(df))"
   ]
  },
  {
   "cell_type": "code",
   "execution_count": 5,
   "metadata": {},
   "outputs": [
    {
     "name": "stdout",
     "output_type": "stream",
     "text": [
      "RangeIndex(start=0, stop=3, step=1)\n",
      "(10, 3)\n",
      "30\n",
      "False\n"
     ]
    }
   ],
   "source": [
    "# df.describe()\n",
    "print(df.columns)\n",
    "# print(df.dtypes)\n",
    "# print(df.index)\n",
    "print(df.shape)\n",
    "print(df.size)\n",
    "# print(df.values)\n",
    "print(df.empty)"
   ]
  },
  {
   "cell_type": "code",
   "execution_count": 6,
   "metadata": {},
   "outputs": [
    {
     "name": "stdout",
     "output_type": "stream",
     "text": [
      "0.7212821436922782\n",
      "0    0.407982\n",
      "1    0.826245\n",
      "2    0.753045\n",
      "3    0.215415\n",
      "4    0.535602\n",
      "5    0.514011\n",
      "6    0.650381\n",
      "7    0.307402\n",
      "8    0.979646\n",
      "9    0.658739\n",
      "Name: 0, dtype: float64\n"
     ]
    }
   ],
   "source": [
    "print(df[1][0])  #col x row : not prefered to use this method\n",
    "# df[1][2] = 5.002\n",
    "print(df[0])    #col : not prefered"
   ]
  },
  {
   "cell_type": "code",
   "execution_count": 7,
   "metadata": {},
   "outputs": [
    {
     "name": "stdout",
     "output_type": "stream",
     "text": [
      "0.4079820996322795\n",
      "            0         1         2\n",
      "0    0.407982  0.721282  0.112170\n",
      "1  569.000000  0.883334  0.132276\n",
      "2    0.753045  0.796167  0.494908\n",
      "3    0.215415  0.480697  0.950698\n",
      "4    0.535602  0.780694  0.465677\n",
      "5    0.514011  0.493992  0.542260\n",
      "6    0.650381  0.615433  0.223068\n",
      "7    0.307402  0.286425  0.284648\n",
      "8    0.979646  0.364402  0.320827\n",
      "9    0.658739  0.562140  0.075878\n"
     ]
    }
   ],
   "source": [
    "df.loc[1,0] = 569\n",
    "print(df.loc[0,0])\n",
    "print(df)\n"
   ]
  },
  {
   "cell_type": "code",
   "execution_count": 8,
   "metadata": {},
   "outputs": [
    {
     "name": "stdout",
     "output_type": "stream",
     "text": [
      "            A         B         C\n",
      "0    0.407982  0.721282  0.112170\n",
      "1  569.000000  0.883334  0.132276\n",
      "2    0.753045  0.796167  0.494908\n",
      "0.4079820996322795\n",
      "            A         B         C\n",
      "0    0.407982  0.721282  0.112170\n",
      "1  569.000000  0.883334  0.132276\n",
      "2    0.753045  0.796167  0.494908\n"
     ]
    }
   ],
   "source": [
    "df.columns = list('ABC')\n",
    "print(df.head(3))\n",
    "print(df.loc[0,'A'])\n",
    "# df.loc[1,2] = 8996  # this location doesnt exist, so a new one is created\n",
    "print(df.head(3))"
   ]
  },
  {
   "cell_type": "code",
   "execution_count": 9,
   "metadata": {},
   "outputs": [
    {
     "name": "stdout",
     "output_type": "stream",
     "text": [
      "            A         B         C\n",
      "1  569.000000  0.883334  0.132276\n",
      "2    0.753045  0.796167  0.494908\n",
      "3    0.215415  0.480697  0.950698\n",
      "4    0.535602  0.780694  0.465677\n",
      "5    0.514011  0.493992  0.542260\n",
      "6    0.650381  0.615433  0.223068\n",
      "7    0.307402  0.286425  0.284648\n",
      "8    0.979646  0.364402  0.320827\n",
      "9    0.658739  0.562140  0.075878\n"
     ]
    }
   ],
   "source": [
    "print(df.drop(0,axis=0))"
   ]
  },
  {
   "cell_type": "code",
   "execution_count": 10,
   "metadata": {},
   "outputs": [
    {
     "name": "stdout",
     "output_type": "stream",
     "text": [
      "          B\n",
      "1  0.883334\n",
      "3  0.480697\n",
      "            A\n",
      "0    0.407982\n",
      "1  569.000000\n",
      "2    0.753045\n",
      "3    0.215415\n",
      "4    0.535602\n",
      "5    0.514011\n",
      "6    0.650381\n",
      "7    0.307402\n",
      "8    0.979646\n",
      "9    0.658739\n",
      "          A         B         C\n",
      "2  0.753045  0.796167  0.494908\n",
      "6  0.650381  0.615433  0.223068\n"
     ]
    }
   ],
   "source": [
    "print(df.loc[[1,3],['B']])\n",
    "print(df.loc[:,['A']])\n",
    "print(df.loc[[2,6],:])"
   ]
  },
  {
   "cell_type": "code",
   "execution_count": 11,
   "metadata": {},
   "outputs": [
    {
     "name": "stdout",
     "output_type": "stream",
     "text": [
      "          A         B         C\n",
      "3  0.215415  0.480697  0.950698\n"
     ]
    }
   ],
   "source": [
    "print(df.loc[(df['A']<0.3) & (df['C']>0.1)])"
   ]
  }
 ],
 "metadata": {
  "kernelspec": {
   "display_name": "Python 3",
   "language": "python",
   "name": "python3"
  },
  "language_info": {
   "codemirror_mode": {
    "name": "ipython",
    "version": 3
   },
   "file_extension": ".py",
   "mimetype": "text/x-python",
   "name": "python",
   "nbconvert_exporter": "python",
   "pygments_lexer": "ipython3",
   "version": "3.12.2"
  }
 },
 "nbformat": 4,
 "nbformat_minor": 2
}

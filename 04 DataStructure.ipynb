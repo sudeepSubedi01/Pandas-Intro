{
 "cells": [
  {
   "cell_type": "code",
   "execution_count": 79,
   "metadata": {},
   "outputs": [],
   "source": [
    "import pandas as pd\n",
    "import numpy as np"
   ]
  },
  {
   "cell_type": "code",
   "execution_count": 80,
   "metadata": {},
   "outputs": [
    {
     "name": "stdout",
     "output_type": "stream",
     "text": [
      "0    0.475269\n",
      "1    0.068799\n",
      "2    0.945965\n",
      "3    0.288372\n",
      "4    0.067723\n",
      "5    0.493984\n",
      "6    0.956916\n",
      "7    0.532168\n",
      "8    0.925562\n",
      "9    0.378629\n",
      "dtype: float64\n",
      "<class 'pandas.core.series.Series'>\n"
     ]
    }
   ],
   "source": [
    "ser = pd.Series(np.random.rand(10))\n",
    "print(ser)\n",
    "print(type(ser))"
   ]
  },
  {
   "cell_type": "code",
   "execution_count": 81,
   "metadata": {},
   "outputs": [
    {
     "name": "stdout",
     "output_type": "stream",
     "text": [
      "          0         1         2\n",
      "0  0.071206  0.786971  0.820428\n",
      "1  0.016951  0.334749  0.994714\n",
      "2  0.493324  0.792257  0.553319\n",
      "3  0.551841  0.292640  0.969003\n",
      "4  0.753652  0.964978  0.396565\n",
      "<class 'pandas.core.frame.DataFrame'>\n"
     ]
    }
   ],
   "source": [
    "df = pd.DataFrame(np.random.rand(50,3))\n",
    "print(df.head())\n",
    "print(type(df))"
   ]
  },
  {
   "cell_type": "code",
   "execution_count": 82,
   "metadata": {},
   "outputs": [
    {
     "name": "stdout",
     "output_type": "stream",
     "text": [
      "RangeIndex(start=0, stop=3, step=1)\n",
      "(50, 3)\n",
      "150\n",
      "False\n"
     ]
    }
   ],
   "source": [
    "# df.describe()\n",
    "print(df.columns)\n",
    "# print(df.dtypes)\n",
    "# print(df.index)\n",
    "print(df.shape)\n",
    "print(df.size)\n",
    "# print(df.values)\n",
    "print(df.empty)"
   ]
  },
  {
   "cell_type": "code",
   "execution_count": 91,
   "metadata": {},
   "outputs": [
    {
     "name": "stdout",
     "output_type": "stream",
     "text": [
      "0.07120552522651447\n",
      "<class 'pandas.core.series.Series'>\n"
     ]
    }
   ],
   "source": [
    "print(df[0][0])\n",
    "# df[1][2] = 5.002\n",
    "print(type(df[0]))"
   ]
  }
 ],
 "metadata": {
  "kernelspec": {
   "display_name": "Python 3",
   "language": "python",
   "name": "python3"
  },
  "language_info": {
   "codemirror_mode": {
    "name": "ipython",
    "version": 3
   },
   "file_extension": ".py",
   "mimetype": "text/x-python",
   "name": "python",
   "nbconvert_exporter": "python",
   "pygments_lexer": "ipython3",
   "version": "3.12.2"
  }
 },
 "nbformat": 4,
 "nbformat_minor": 2
}

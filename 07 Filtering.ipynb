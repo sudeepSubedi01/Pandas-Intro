{
 "cells": [
  {
   "cell_type": "code",
   "execution_count": 117,
   "metadata": {},
   "outputs": [],
   "source": [
    "import pandas as pd"
   ]
  },
  {
   "cell_type": "code",
   "execution_count": 118,
   "metadata": {},
   "outputs": [
    {
     "name": "stdout",
     "output_type": "stream",
     "text": [
      "       #                   Name   Type 1  Type 2  HP  Attack  Defense  \\\n",
      "0      1              Bulbasaur    Grass  Poison  45      49       49   \n",
      "1      2                Ivysaur    Grass  Poison  60      62       63   \n",
      "2      3               Venusaur    Grass  Poison  80      82       83   \n",
      "3      3  VenusaurMega Venusaur    Grass  Poison  80     100      123   \n",
      "4      4             Charmander     Fire     NaN  39      52       43   \n",
      "..   ...                    ...      ...     ...  ..     ...      ...   \n",
      "795  719                Diancie     Rock   Fairy  50     100      150   \n",
      "796  719    DiancieMega Diancie     Rock   Fairy  50     160      110   \n",
      "797  720    HoopaHoopa Confined  Psychic   Ghost  80     110       60   \n",
      "798  720     HoopaHoopa Unbound  Psychic    Dark  80     160       60   \n",
      "799  721              Volcanion     Fire   Water  80     110      120   \n",
      "\n",
      "     Sp. Atk  Sp. Def  Speed  Generation  Legendary  \n",
      "0         65       65     45           1      False  \n",
      "1         80       80     60           1      False  \n",
      "2        100      100     80           1      False  \n",
      "3        122      120     80           1      False  \n",
      "4         60       50     65           1      False  \n",
      "..       ...      ...    ...         ...        ...  \n",
      "795      100      150     50           6       True  \n",
      "796      160      110    110           6       True  \n",
      "797      150      130     70           6       True  \n",
      "798      170      130     80           6       True  \n",
      "799      130       90     70           6       True  \n",
      "\n",
      "[800 rows x 12 columns]\n"
     ]
    }
   ],
   "source": [
    "data = pd.read_csv('pokemon.csv')\n",
    "df = pd.DataFrame(data)\n",
    "print(df)"
   ]
  },
  {
   "cell_type": "code",
   "execution_count": 119,
   "metadata": {},
   "outputs": [
    {
     "name": "stdout",
     "output_type": "stream",
     "text": [
      "<class 'pandas.core.frame.DataFrame'>\n",
      "<class 'pandas.core.series.Series'>\n",
      "<class 'pandas.core.frame.DataFrame'>\n"
     ]
    }
   ],
   "source": [
    "# series and dataframe while accessing datas\n",
    "print(type(df[['HP','Attack']]))\n",
    "print(type(df['HP']))\n",
    "print(type(df[['HP']]))"
   ]
  },
  {
   "cell_type": "code",
   "execution_count": 132,
   "metadata": {},
   "outputs": [
    {
     "name": "stdout",
     "output_type": "stream",
     "text": [
      "       #                   Name Type 1  Type 2   HP  Attack  Defense  Sp. Atk  \\\n",
      "2      3               Venusaur  Grass  Poison   80      82       83      100   \n",
      "3      3  VenusaurMega Venusaur  Grass  Poison   80     100      123      122   \n",
      "50    45              Vileplume  Grass  Poison   75      80       85      110   \n",
      "77    71             Victreebel  Grass  Poison   80     105       65      100   \n",
      "652  591              Amoonguss  Grass  Poison  114      85       70       85   \n",
      "\n",
      "     Sp. Def  Speed  Generation  Legendary  \n",
      "2        100     80           1      False  \n",
      "3        120     80           1      False  \n",
      "50        90     50           1      False  \n",
      "77        70     70           1      False  \n",
      "652       80     30           5      False  \n"
     ]
    }
   ],
   "source": [
    "# df.set_index('#',inplace=True)\n",
    "# # print(df.head())\n",
    "# print(df.loc[5,'HP'])\n",
    "# print(df['Type 1'])\n",
    "# print(df['Type 1'] == 'Grass')      # creates a boolean series(True/False) for Type 1 = Grass\n",
    "new_df = df.loc[(df['Type 1'] == 'Grass') & (df['Type 2'] == 'Poison') & (df['HP'] > 70)] # for both conditions, boolean series is formed and only those are selected whose boolean logic is True and then fed to loc\n",
    "print(new_df)"
   ]
  },
  {
   "cell_type": "code",
   "execution_count": 136,
   "metadata": {},
   "outputs": [
    {
     "name": "stdout",
     "output_type": "stream",
     "text": [
      "     #                   Name Type 1  Type 2   HP  Attack  Defense  Sp. Atk  \\\n",
      "0    3               Venusaur  Grass  Poison   80      82       83      100   \n",
      "1    3  VenusaurMega Venusaur  Grass  Poison   80     100      123      122   \n",
      "2   45              Vileplume  Grass  Poison   75      80       85      110   \n",
      "3   71             Victreebel  Grass  Poison   80     105       65      100   \n",
      "4  591              Amoonguss  Grass  Poison  114      85       70       85   \n",
      "\n",
      "   Sp. Def  Speed  Generation  Legendary  \n",
      "0      100     80           1      False  \n",
      "1      120     80           1      False  \n",
      "2       90     50           1      False  \n",
      "3       70     70           1      False  \n",
      "4       80     30           5      False  \n"
     ]
    }
   ],
   "source": [
    "new_df = new_df.reset_index(drop = True)\n",
    "print(new_df)"
   ]
  }
 ],
 "metadata": {
  "kernelspec": {
   "display_name": "Python 3 (ipykernel)",
   "language": "python",
   "name": "python3"
  },
  "language_info": {
   "codemirror_mode": {
    "name": "ipython",
    "version": 3
   },
   "file_extension": ".py",
   "mimetype": "text/x-python",
   "name": "python",
   "nbconvert_exporter": "python",
   "pygments_lexer": "ipython3",
   "version": "3.12.2"
  }
 },
 "nbformat": 4,
 "nbformat_minor": 4
}

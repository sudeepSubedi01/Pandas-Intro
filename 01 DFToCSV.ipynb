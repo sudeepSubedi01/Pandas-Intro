{
 "cells": [
  {
   "cell_type": "code",
   "execution_count": 6,
   "id": "2e627eb8-469f-4422-b0ac-f02c37d50c01",
   "metadata": {},
   "outputs": [],
   "source": [
    "import numpy as np\n",
    "import pandas as pd"
   ]
  },
  {
   "cell_type": "code",
   "execution_count": 7,
   "id": "6e36b46e-08b9-4167-96d6-f97f0a0d51a6",
   "metadata": {},
   "outputs": [],
   "source": [
    "dict1 = {\n",
    "  'name': ['Biden','Trump','Modi','Putin'],\n",
    "  'marks':[95,63,45,47],\n",
    "  'city': ['Alabama', 'Alaska', 'New York','New Jersey']\n",
    "}"
   ]
  },
  {
   "cell_type": "code",
   "execution_count": 8,
   "id": "0f7b974a",
   "metadata": {},
   "outputs": [
    {
     "name": "stdout",
     "output_type": "stream",
     "text": [
      "    name  marks        city\n",
      "0  Biden     95     Alabama\n",
      "1  Trump     63      Alaska\n",
      "2   Modi     45    New York\n",
      "3  Putin     47  New Jersey\n"
     ]
    }
   ],
   "source": [
    "df = pd.DataFrame(dict1)\n",
    "print(df)"
   ]
  },
  {
   "cell_type": "code",
   "execution_count": 9,
   "id": "00c83206",
   "metadata": {},
   "outputs": [],
   "source": [
    "df.to_csv('details.csv')\n",
    "df.to_csv('details_index_false.csv', index=False)"
   ]
  },
  {
   "cell_type": "code",
   "execution_count": 11,
   "id": "2b27d87c",
   "metadata": {},
   "outputs": [
    {
     "name": "stdout",
     "output_type": "stream",
     "text": [
      "     Name       Post  ID\n",
      "a    Modi   Designer  12\n",
      "b  Ramesh  Developer  15\n",
      "c   Shyam    Manager  63\n",
      "d   Biden     Writer  12\n",
      "e   Putin       Cook   2\n",
      "f   Rajib    Creator  16\n",
      "g    Tony   Director   5\n",
      "<class 'pandas.core.frame.DataFrame'>\n",
      "<class 'pandas.core.series.Series'>\n"
     ]
    }
   ],
   "source": [
    "import pandas as pd\n",
    "data = pd.read_csv('sample-csv.csv')\n",
    "# print(data)\n",
    "# print(data['Name'])\n",
    "# print(data['Name'][0])\n",
    "data.index = ['a','b','c','d','e','f','g']\n",
    "print(data)"
   ]
  },
  {
   "cell_type": "code",
   "execution_count": null,
   "id": "e24b7150",
   "metadata": {},
   "outputs": [],
   "source": []
  }
 ],
 "metadata": {
  "kernelspec": {
   "display_name": "Python 3 (ipykernel)",
   "language": "python",
   "name": "python3"
  },
  "language_info": {
   "codemirror_mode": {
    "name": "ipython",
    "version": 3
   },
   "file_extension": ".py",
   "mimetype": "text/x-python",
   "name": "python",
   "nbconvert_exporter": "python",
   "pygments_lexer": "ipython3",
   "version": "3.12.2"
  }
 },
 "nbformat": 4,
 "nbformat_minor": 5
}

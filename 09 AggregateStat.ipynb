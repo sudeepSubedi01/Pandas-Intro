{
 "cells": [
  {
   "cell_type": "code",
   "execution_count": 66,
   "metadata": {},
   "outputs": [
    {
     "name": "stdout",
     "output_type": "stream",
     "text": [
      "              #     HP     Attack    Defense     Sp. Atk     Sp. Def  \\\n",
      "HP                                                                     \n",
      "1    292.000000    1.0  90.000000  45.000000   30.000000   30.000000   \n",
      "10    50.000000   10.0  55.000000  25.000000   35.000000   45.000000   \n",
      "20   276.166667   20.0  23.333333  75.833333   28.333333   86.666667   \n",
      "25    72.000000   25.0  27.500000  42.500000  100.000000   55.000000   \n",
      "28   280.000000   28.0  25.000000  25.000000   45.000000   35.000000   \n",
      "..          ...    ...        ...        ...         ...         ...   \n",
      "165  594.000000  165.0  75.000000  80.000000   40.000000   45.000000   \n",
      "170  321.000000  170.0  90.000000  45.000000   90.000000   45.000000   \n",
      "190  202.000000  190.0  33.000000  58.000000   33.000000   58.000000   \n",
      "250  113.000000  250.0   5.000000   5.000000   35.000000  105.000000   \n",
      "255  242.000000  255.0  10.000000  10.000000   75.000000  135.000000   \n",
      "\n",
      "         Speed  Generation  \n",
      "HP                          \n",
      "1    40.000000         3.0  \n",
      "10   95.000000         1.0  \n",
      "20   51.666667         2.5  \n",
      "25   67.500000         1.0  \n",
      "28   40.000000         3.0  \n",
      "..         ...         ...  \n",
      "165  65.000000         5.0  \n",
      "170  60.000000         3.0  \n",
      "190  33.000000         2.0  \n",
      "250  50.000000         1.0  \n",
      "255  55.000000         2.0  \n",
      "\n",
      "[94 rows x 8 columns]\n"
     ]
    }
   ],
   "source": [
    "import pandas as pd\n",
    "df = pd.read_csv('pokemon.csv')\n",
    "numeric_cols = df.select_dtypes(include = 'number').columns\n",
    "result = df.groupby('HP')[numeric_cols].mean()\n",
    "print(result)"
   ]
  },
  {
   "cell_type": "code",
   "execution_count": 67,
   "metadata": {},
   "outputs": [
    {
     "name": "stdout",
     "output_type": "stream",
     "text": [
      "     #  HP  Attack  Defense  Sp. Atk  Sp. Def  Speed  Generation\n",
      "HP                                                              \n",
      "1    1   1       1        1        1        1      1           1\n",
      "10   1   1       1        1        1        1      1           1\n",
      "20   6   6       6        6        6        6      6           6\n",
      "25   2   2       2        2        2        2      2           2\n",
      "28   1   1       1        1        1        1      1           1\n",
      "..  ..  ..     ...      ...      ...      ...    ...         ...\n",
      "165  1   1       1        1        1        1      1           1\n",
      "170  1   1       1        1        1        1      1           1\n",
      "190  1   1       1        1        1        1      1           1\n",
      "250  1   1       1        1        1        1      1           1\n",
      "255  1   1       1        1        1        1      1           1\n",
      "\n",
      "[94 rows x 8 columns]\n"
     ]
    }
   ],
   "source": [
    "result1 = df.groupby('HP')[numeric_cols].count()\n",
    "print(result1)"
   ]
  }
 ],
 "metadata": {
  "kernelspec": {
   "display_name": "Python 3",
   "language": "python",
   "name": "python3"
  },
  "language_info": {
   "codemirror_mode": {
    "name": "ipython",
    "version": 3
   },
   "file_extension": ".py",
   "mimetype": "text/x-python",
   "name": "python",
   "nbconvert_exporter": "python",
   "pygments_lexer": "ipython3",
   "version": "3.12.2"
  }
 },
 "nbformat": 4,
 "nbformat_minor": 2
}

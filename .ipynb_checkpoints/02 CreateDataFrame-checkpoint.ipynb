{
 "cells": [
  {
   "cell_type": "code",
   "execution_count": 1,
   "id": "f0478f94-7c03-421c-9c6e-e15e0f81a7f0",
   "metadata": {},
   "outputs": [],
   "source": [
    "import pandas as pd"
   ]
  },
  {
   "cell_type": "code",
   "execution_count": 2,
   "id": "6089d915-a5cb-4e4d-9345-082d1846193d",
   "metadata": {},
   "outputs": [
    {
     "name": "stdout",
     "output_type": "stream",
     "text": [
      "{'name': ['Aman', 'Gupta', 'Sundar', 'Jethalal', 'Bhide'], 'age': [25, 30, 21, 45, 20], 'address': ['India', 'China', 'Amedabad', 'Mumbai', 'Ranapark']}\n"
     ]
    }
   ],
   "source": [
    "details1 = {\n",
    "  'name' : ['Aman','Gupta','Sundar', 'Jethalal','Bhide'],\n",
    "  'age' : [25,30,21,45,20],\n",
    "  'address' :['India', 'China','Amedabad','Mumbai','Ranapark']\n",
    "}\n",
    "print(details1)\n",
    "print(pd.dataframe"
   ]
  },
  {
   "cell_type": "code",
   "execution_count": null,
   "id": "14a11717",
   "metadata": {},
   "outputs": [],
   "source": []
  }
 ],
 "metadata": {
  "kernelspec": {
   "display_name": "Python 3 (ipykernel)",
   "language": "python",
   "name": "python3"
  },
  "language_info": {
   "codemirror_mode": {
    "name": "ipython",
    "version": 3
   },
   "file_extension": ".py",
   "mimetype": "text/x-python",
   "name": "python",
   "nbconvert_exporter": "python",
   "pygments_lexer": "ipython3",
   "version": "3.12.2"
  }
 },
 "nbformat": 4,
 "nbformat_minor": 5
}

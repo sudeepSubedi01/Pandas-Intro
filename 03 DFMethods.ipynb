{
 "cells": [
  {
   "cell_type": "code",
   "execution_count": 2,
   "metadata": {},
   "outputs": [],
   "source": [
    "import pandas as pd"
   ]
  },
  {
   "cell_type": "code",
   "execution_count": 16,
   "metadata": {},
   "outputs": [
    {
     "name": "stdout",
     "output_type": "stream",
     "text": [
      "              ID\n",
      "count   7.000000\n",
      "mean   17.857143\n",
      "std    20.554226\n",
      "min     2.000000\n",
      "25%     8.500000\n",
      "50%    12.000000\n",
      "75%    15.500000\n",
      "max    63.000000\n"
     ]
    }
   ],
   "source": [
    "details = [\n",
    "  ['Modi','Designer',12],\n",
    "  ['Ramesh','Developer',15],\n",
    "  ['Shyam','Manager',63],\n",
    "  ['Biden','Writer',12],\n",
    "  ['Putin','Cook',2],\n",
    "  ['Rajib','Creator',16],\n",
    "  ['Tony','Director',5]\n",
    "]\n",
    "df = pd.DataFrame(details, columns=('Name','Post','ID'))\n",
    "# df.set_index('Name', inplace=True)\n",
    "# print(df)\n",
    "# print(df.head())\n",
    "# print(df.tail(2))\n",
    "# print(df.sort_values(by='ID'))\n",
    "print(df.describe())"
   ]
  },
  {
   "cell_type": "code",
   "execution_count": null,
   "metadata": {},
   "outputs": [],
   "source": []
  }
 ],
 "metadata": {
  "kernelspec": {
   "display_name": "Python 3",
   "language": "python",
   "name": "python3"
  },
  "language_info": {
   "codemirror_mode": {
    "name": "ipython",
    "version": 3
   },
   "file_extension": ".py",
   "mimetype": "text/x-python",
   "name": "python",
   "nbconvert_exporter": "python",
   "pygments_lexer": "ipython3",
   "version": "3.12.2"
  }
 },
 "nbformat": 4,
 "nbformat_minor": 2
}
